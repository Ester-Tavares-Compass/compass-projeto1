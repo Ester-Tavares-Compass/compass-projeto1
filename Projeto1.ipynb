{
  "nbformat": 4,
  "nbformat_minor": 0,
  "metadata": {
    "colab": {
      "provenance": [],
      "authorship_tag": "ABX9TyPAJ7ZyhvRbSRDTJkAFka6J",
      "include_colab_link": true
    },
    "kernelspec": {
      "name": "python3",
      "display_name": "Python 3"
    },
    "language_info": {
      "name": "python"
    }
  },
  "cells": [
    {
      "cell_type": "markdown",
      "metadata": {
        "id": "view-in-github",
        "colab_type": "text"
      },
      "source": [
        "<a href=\"https://colab.research.google.com/github/Ester-Tavares-Compass/compass-projeto1/blob/main/Projeto1.ipynb\" target=\"_parent\"><img src=\"https://colab.research.google.com/assets/colab-badge.svg\" alt=\"Open In Colab\"/></a>"
      ]
    },
    {
      "cell_type": "markdown",
      "source": [
        "# Preparação do ambiente - Importação de bibliotecas e tabelas"
      ],
      "metadata": {
        "id": "89sah7_HPxa7"
      }
    },
    {
      "cell_type": "markdown",
      "source": [
        "# Pré tratamento de dados"
      ],
      "metadata": {
        "id": "LbXhFo9JP5kR"
      }
    },
    {
      "cell_type": "markdown",
      "source": [
        "# Análise Exploratória"
      ],
      "metadata": {
        "id": "zEV6JSXpP9ET"
      }
    },
    {
      "cell_type": "code",
      "execution_count": null,
      "metadata": {
        "id": "8dLw3umCPC7f"
      },
      "outputs": [],
      "source": []
    },
    {
      "cell_type": "markdown",
      "source": [
        "# Estatística Descritiva"
      ],
      "metadata": {
        "id": "RKuIIqgGQBjZ"
      }
    },
    {
      "cell_type": "markdown",
      "source": [
        "# Gráficos e conclusão final"
      ],
      "metadata": {
        "id": "-7SYH6L1QEs1"
      }
    }
  ]
}